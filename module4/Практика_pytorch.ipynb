{
  "nbformat": 4,
  "nbformat_minor": 0,
  "metadata": {
    "colab": {
      "provenance": [],
      "gpuType": "T4",
      "include_colab_link": true
    },
    "kernelspec": {
      "name": "python3",
      "display_name": "Python 3"
    },
    "language_info": {
      "name": "python"
    },
    "accelerator": "GPU"
  },
  "cells": [
    {
      "cell_type": "markdown",
      "metadata": {
        "id": "view-in-github",
        "colab_type": "text"
      },
      "source": [
        "<a href=\"https://colab.research.google.com/github/IrynaBarnych/AI11_lab/blob/lab/module4/%D0%9F%D1%80%D0%B0%D0%BA%D1%82%D0%B8%D0%BA%D0%B0_pytorch.ipynb\" target=\"_parent\"><img src=\"https://colab.research.google.com/assets/colab-badge.svg\" alt=\"Open In Colab\"/></a>"
      ]
    },
    {
      "cell_type": "markdown",
      "source": [
        "Імпорт модулів"
      ],
      "metadata": {
        "id": "ZnHVsAJ_5Py3"
      }
    },
    {
      "cell_type": "code",
      "execution_count": 1,
      "metadata": {
        "id": "yJf_g69N5LP6"
      },
      "outputs": [],
      "source": [
        "import torch\n",
        "import numpy as np"
      ]
    },
    {
      "cell_type": "markdown",
      "source": [
        "# Завдання 1\n",
        "\n",
        "Перегляньте інформацію про доступні процесори, та виведіть про них інформацію"
      ],
      "metadata": {
        "id": "pRkcTmfh6jCX"
      }
    },
    {
      "cell_type": "code",
      "source": [
        "print(torch.cuda.is_available())  # True/False\n",
        "\n",
        "if torch.cuda.is_available():\n",
        "    print(torch.cuda.device_count())\n",
        "    print(torch.cuda.get_device_name(0))\n",
        "\n",
        "tensor = torch.tensor([1, 2, 3])\n",
        "print(tensor.device)"
      ],
      "metadata": {
        "id": "W5yEGTcV6zHy",
        "outputId": "98d1c34f-f1ea-44d7-b6f2-04fcb5848d70",
        "colab": {
          "base_uri": "https://localhost:8080/"
        }
      },
      "execution_count": 2,
      "outputs": [
        {
          "output_type": "stream",
          "name": "stdout",
          "text": [
            "True\n",
            "1\n",
            "Tesla T4\n",
            "cpu\n"
          ]
        }
      ]
    },
    {
      "cell_type": "markdown",
      "source": [
        "# Завдання 2\n",
        "Підключіть colab до процесора GPU, та знову виведіть інформацію про доступні процесори"
      ],
      "metadata": {
        "id": "xTLIVYQg6z5G"
      }
    },
    {
      "cell_type": "code",
      "source": [
        "device = torch.device('cuda' if torch.cuda.is_available() else 'cpu')\n",
        "\n",
        "tensor = torch.tensor([1, 2, 3])\n",
        "tensor = tensor.to(device)\n",
        "\n",
        "tensor"
      ],
      "metadata": {
        "id": "lTB4ogda_oqx",
        "outputId": "891226d1-3bcf-422a-fc1d-64a855f1a6a0",
        "colab": {
          "base_uri": "https://localhost:8080/"
        }
      },
      "execution_count": 24,
      "outputs": [
        {
          "output_type": "execute_result",
          "data": {
            "text/plain": [
              "tensor([1, 2, 3], device='cuda:0')"
            ]
          },
          "metadata": {},
          "execution_count": 24
        }
      ]
    },
    {
      "cell_type": "code",
      "source": [
        "device"
      ],
      "metadata": {
        "id": "h4Dn8KIRAXaM",
        "outputId": "1fc39c98-baf7-43e1-e86c-eb0308d6e4fa",
        "colab": {
          "base_uri": "https://localhost:8080/"
        }
      },
      "execution_count": 25,
      "outputs": [
        {
          "output_type": "execute_result",
          "data": {
            "text/plain": [
              "device(type='cuda')"
            ]
          },
          "metadata": {},
          "execution_count": 25
        }
      ]
    },
    {
      "cell_type": "code",
      "source": [
        "tensor = torch.tensor([1, 2, 3], device=device)\n",
        "tensor"
      ],
      "metadata": {
        "id": "wbMtRLYDAcMZ",
        "outputId": "c84dfaa2-3f6e-4d70-be90-db9f904f7e16",
        "colab": {
          "base_uri": "https://localhost:8080/"
        }
      },
      "execution_count": 26,
      "outputs": [
        {
          "output_type": "execute_result",
          "data": {
            "text/plain": [
              "tensor([1, 2, 3], device='cuda:0')"
            ]
          },
          "metadata": {},
          "execution_count": 26
        }
      ]
    },
    {
      "cell_type": "markdown",
      "source": [
        "# Завдання 3\n",
        "Створіть випадковий тензор розміру (2, 3). Виведіть інформацію про його:\n",
        "\n",
        "* розмір\n",
        "* тип даних\n",
        "* процесор\n",
        "* наявність градієнта"
      ],
      "metadata": {
        "id": "OkMil6fb7AiX"
      }
    },
    {
      "cell_type": "code",
      "source": [
        "import torch\n",
        "\n",
        "tensor = torch.randn(2, 3)\n",
        "\n",
        "print(\"Розмір тензора:\", tensor.size())\n",
        "print(\"Тип даних тензора:\", tensor.dtype)\n",
        "print(\"Пристрій, на якому знаходиться тензор:\", tensor.device)\n",
        "print(\"Наявність градієнта для тензора:\", tensor.requires_grad)"
      ],
      "metadata": {
        "id": "ih3MeOto8yrO",
        "outputId": "df0bdf6c-8726-4256-899b-eaef2742f6d1",
        "colab": {
          "base_uri": "https://localhost:8080/"
        }
      },
      "execution_count": 27,
      "outputs": [
        {
          "output_type": "stream",
          "name": "stdout",
          "text": [
            "Розмір тензора: torch.Size([2, 3])\n",
            "Тип даних тензора: torch.float32\n",
            "Пристрій, на якому знаходиться тензор: cuda:0\n",
            "Наявність градієнта для тензора: False\n"
          ]
        }
      ]
    },
    {
      "cell_type": "markdown",
      "source": [
        "# Завдання 4\n",
        "\n",
        "Створіть 2 тензора розміру 100. Використовуючи лише модуль `torch` обрахуйте середьню абсолютну похибку(mae) між ними. Виведіть результат як число"
      ],
      "metadata": {
        "id": "nNrrplv_9Vha"
      }
    },
    {
      "cell_type": "code",
      "source": [
        "tensor1 = torch.randn(100)\n",
        "tensor2 = torch.randn(100)\n",
        "\n",
        "mae = torch.mean(torch.abs(tensor1 - tensor2))\n",
        "\n",
        "print(\"Середня абсолютна похибка (MAE):\", mae.item())"
      ],
      "metadata": {
        "id": "HybhfrBT9wT5",
        "outputId": "a92d925d-8155-4a21-b61f-f394d913ae1d",
        "colab": {
          "base_uri": "https://localhost:8080/"
        }
      },
      "execution_count": 28,
      "outputs": [
        {
          "output_type": "stream",
          "name": "stdout",
          "text": [
            "Середня абсолютна похибка (MAE): 1.1322582960128784\n"
          ]
        }
      ]
    },
    {
      "cell_type": "markdown",
      "source": [
        "# Завдання 5\n",
        "\n",
        "Створіть 3 випадкових тензора з розмірами:\n",
        "* 32х28х28\n",
        "* 16х28х28\n",
        "* 64х28х28\n",
        "\n",
        "Об'єднайте їх по першій розмірності. Результат має мати розмір 128х28х28"
      ],
      "metadata": {
        "id": "JoU54G199w5-"
      }
    },
    {
      "cell_type": "code",
      "source": [
        "tensor1 = torch.randn(32, 28, 28)\n",
        "tensor2 = torch.randn(16, 28, 28)\n",
        "tensor3 = torch.randn(64, 28, 28)\n",
        "\n",
        "result = torch.cat((tensor1, tensor2, tensor3), dim=0)\n",
        "\n",
        "print(\"Розмір результату:\", result.size())"
      ],
      "metadata": {
        "id": "Ar7NOowB-NBn",
        "outputId": "45e2f129-666b-4a11-b6ae-6c8a0524e39e",
        "colab": {
          "base_uri": "https://localhost:8080/"
        }
      },
      "execution_count": 29,
      "outputs": [
        {
          "output_type": "stream",
          "name": "stdout",
          "text": [
            "Розмір результату: torch.Size([112, 28, 28])\n"
          ]
        }
      ]
    },
    {
      "cell_type": "markdown",
      "source": [
        "# Завдання 6\n",
        "Застосуйте метод градієнтного спуску для функції"
      ],
      "metadata": {
        "id": "8v4erUf8-Tnn"
      }
    },
    {
      "cell_type": "code",
      "source": [
        "def f(x):\n",
        "  return x**2/3 + torch.sin(torch.pi*x)"
      ],
      "metadata": {
        "id": "c89FE7vc-aWy"
      },
      "execution_count": 30,
      "outputs": []
    },
    {
      "cell_type": "code",
      "source": [
        "# підкоючаємо процесор\n",
        "device = \"cuda\" if torch.cuda.is_available() else \"cpu\"\n",
        "torch.set_default_device(device)\n",
        "\n",
        "# вибираємо початкове значення\n",
        "x = torch.tensor(2.0, requires_grad=True)\n",
        "\n",
        "# швидкість навчання\n",
        "learning_rate = 1e-3\n",
        "\n",
        "for t in range(2000):\n",
        "    # обчислюємо функцію яку потрібно мінімізувати\n",
        "    loss = f(x)\n",
        "\n",
        "    # обчислюємо всі потрібні градієнти\n",
        "    loss.backward()\n",
        "\n",
        "    # вивід значення функції\n",
        "    if t % 100 == 0:\n",
        "      print(f'loss={loss.item()}')\n",
        "\n",
        "    with torch.no_grad():\n",
        "      x -= learning_rate * x.grad\n",
        "\n",
        "      # очищуємо пам'ять для повторного обчислення градієнтів\n",
        "      x.grad = None\n",
        ""
      ],
      "metadata": {
        "id": "RI511ZcM_7Xv",
        "outputId": "e3dd1124-efb6-4ac3-82e8-adead3d49e79",
        "colab": {
          "base_uri": "https://localhost:8080/"
        }
      },
      "execution_count": 31,
      "outputs": [
        {
          "output_type": "stream",
          "name": "stdout",
          "text": [
            "loss=1.3333334922790527\n",
            "loss=-0.012307047843933105\n",
            "loss=-0.26274728775024414\n",
            "loss=-0.2934073805809021\n",
            "loss=-0.29722774028778076\n",
            "loss=-0.29771918058395386\n",
            "loss=-0.2977832555770874\n",
            "loss=-0.29779165983200073\n",
            "loss=-0.29779279232025146\n",
            "loss=-0.297792911529541\n",
            "loss=-0.297792911529541\n",
            "loss=-0.29779303073883057\n",
            "loss=-0.29779285192489624\n",
            "loss=-0.29779285192489624\n",
            "loss=-0.29779285192489624\n",
            "loss=-0.29779285192489624\n",
            "loss=-0.29779285192489624\n",
            "loss=-0.29779285192489624\n",
            "loss=-0.29779285192489624\n",
            "loss=-0.29779285192489624\n"
          ]
        }
      ]
    },
    {
      "cell_type": "code",
      "source": [
        "import matplotlib.pyplot as plt\n",
        "\n",
        "xs = torch.linspace(-3, 5, 100)\n",
        "plt.plot(xs.cpu(), f(xs).cpu(), label='f(x)')\n",
        "plt.scatter(x.item(), f(x).item(), c='red', label='min')\n",
        "plt.legend()\n",
        ""
      ],
      "metadata": {
        "id": "2rD42JNPAuNO",
        "outputId": "0c4086f8-c91b-4884-8ae6-339d47a4c098",
        "colab": {
          "base_uri": "https://localhost:8080/",
          "height": 447
        }
      },
      "execution_count": 32,
      "outputs": [
        {
          "output_type": "execute_result",
          "data": {
            "text/plain": [
              "<matplotlib.legend.Legend at 0x7bf6c89b64d0>"
            ]
          },
          "metadata": {},
          "execution_count": 32
        },
        {
          "output_type": "display_data",
          "data": {
            "text/plain": [
              "<Figure size 640x480 with 1 Axes>"
            ],
            "image/png": "[encoded data removed]"
          },
          "metadata": {}
        }
      ]
    },
    {
      "cell_type": "markdown",
      "source": [
        "# Завдання 7\n",
        "Застосуйте метод градієнтного спуску для функції. Мінімум функції рівний 0"
      ],
      "metadata": {
        "id": "UjHK74ES-iuO"
      }
    },
    {
      "cell_type": "code",
      "source": [
        "def f1(x, y):\n",
        "  # функція Швефеля\n",
        "  return  418.9829*2 - x*torch.sin(x.abs().sqrt()) - y*torch.sin(y.abs().sqrt())\n",
        "\n",
        "def f2(x, y):\n",
        "  # трьохгорбна функція\n",
        "  return 2*x**2  - 1.05*x**4 + 1/6*x**6 + x*y  + y**2\n",
        "\n",
        "def f3(x, y):\n",
        "  # функція птах\n",
        "  return 106.7645 + torch.sin(x)*torch.exp((1-torch.cos(y))**2) + \\\n",
        "  torch.cos(y)*torch.exp((1-torch.sin(x))**2) +\\\n",
        "  (x-y)**2"
      ],
      "metadata": {
        "id": "vRD515Ik_xM-"
      },
      "execution_count": 34,
      "outputs": []
    },
    {
      "cell_type": "code",
      "source": [
        "# підкоючаємо процесор\n",
        "device = \"cuda\" if torch.cuda.is_available() else \"cpu\"\n",
        "torch.set_default_device(device)\n",
        "\n",
        "# вибираємо початкове значення\n",
        "x = torch.tensor(2.0, requires_grad=True)\n",
        "y = torch.tensor(2.0, requires_grad=True)\n",
        "\n",
        "# швидкість навчання\n",
        "learning_rate = 1e-3\n",
        "\n",
        "for t in range(2000):\n",
        "    # обчислюємо функцію яку потрібно мінімізувати\n",
        "    loss = f(x)\n",
        "    loss = f(y)\n",
        "\n",
        "    # обчислюємо всі потрібні градієнти\n",
        "    loss.backward()\n",
        "\n",
        "    # вивід значення функції\n",
        "    if t % 100 == 0:\n",
        "      print(f'loss={loss.item()}')\n",
        "\n",
        "    with torch.no_grad():\n",
        "      x -= learning_rate * x.grad\n",
        "      y -= learning_rate * y.grad\n",
        "\n",
        "      # очищуємо пам'ять для повторного обчислення градієнтів\n",
        "      x.grad = None\n",
        "      y.grad = None"
      ],
      "metadata": {
        "id": "Mt0Fn4BgCG5u",
        "outputId": "779932bb-aa37-4c9e-8e48-6997ea2492df",
        "colab": {
          "base_uri": "https://localhost:8080/",
          "height": 228
        }
      },
      "execution_count": 36,
      "outputs": [
        {
          "output_type": "stream",
          "name": "stdout",
          "text": [
            "loss=1.3333334922790527\n"
          ]
        },
        {
          "output_type": "error",
          "ename": "TypeError",
          "evalue": "unsupported operand type(s) for *: 'float' and 'NoneType'",
          "traceback": [
            "\u001b[0;31m---------------------------------------------------------------------------\u001b[0m",
            "\u001b[0;31mTypeError\u001b[0m                                 Traceback (most recent call last)",
            "\u001b[0;32m<ipython-input-36-5bd1e6558123>\u001b[0m in \u001b[0;36m<cell line: 12>\u001b[0;34m()\u001b[0m\n\u001b[1;32m     23\u001b[0m \u001b[0;34m\u001b[0m\u001b[0m\n\u001b[1;32m     24\u001b[0m     \u001b[0;32mwith\u001b[0m \u001b[0mtorch\u001b[0m\u001b[0;34m.\u001b[0m\u001b[0mno_grad\u001b[0m\u001b[0;34m(\u001b[0m\u001b[0;34m)\u001b[0m\u001b[0;34m:\u001b[0m\u001b[0;34m\u001b[0m\u001b[0;34m\u001b[0m\u001b[0m\n\u001b[0;32m---> 25\u001b[0;31m       \u001b[0mx\u001b[0m \u001b[0;34m-=\u001b[0m \u001b[0mlearning_rate\u001b[0m \u001b[0;34m*\u001b[0m \u001b[0mx\u001b[0m\u001b[0;34m.\u001b[0m\u001b[0mgrad\u001b[0m\u001b[0;34m\u001b[0m\u001b[0;34m\u001b[0m\u001b[0m\n\u001b[0m\u001b[1;32m     26\u001b[0m       \u001b[0my\u001b[0m \u001b[0;34m-=\u001b[0m \u001b[0mlearning_rate\u001b[0m \u001b[0;34m*\u001b[0m \u001b[0my\u001b[0m\u001b[0;34m.\u001b[0m\u001b[0mgrad\u001b[0m\u001b[0;34m\u001b[0m\u001b[0;34m\u001b[0m\u001b[0m\n\u001b[1;32m     27\u001b[0m \u001b[0;34m\u001b[0m\u001b[0m\n",
            "\u001b[0;31mTypeError\u001b[0m: unsupported operand type(s) for *: 'float' and 'NoneType'"
          ]
        }
      ]
    }
  ]
}